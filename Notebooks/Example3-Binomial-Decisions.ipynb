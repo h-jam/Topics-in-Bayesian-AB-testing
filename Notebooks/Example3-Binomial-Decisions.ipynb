{
 "cells": [
  {
   "cell_type": "markdown",
   "metadata": {},
   "source": [
    "# Bayesian AB Testing Part 3 - Picking a Winner"
   ]
  },
  {
   "cell_type": "code",
   "execution_count": 2,
   "metadata": {},
   "outputs": [],
   "source": [
    "library(dplyr)\n",
    "library(rjags)"
   ]
  },
  {
   "cell_type": "code",
   "execution_count": 74,
   "metadata": {},
   "outputs": [],
   "source": [
    "# Create some fake data \n",
    "set.seed(2021)\n",
    "\n",
    "n = 120\n",
    "p_a = 0.29\n",
    "p_b = 0.5\n",
    "\n",
    "x_a = sum(rbinom(n = n, size = 1, prob = p_a))\n",
    "x_b = sum(rbinom(n = n, size = 1, prob = p_b))"
   ]
  },
  {
   "cell_type": "code",
   "execution_count": null,
   "metadata": {},
   "outputs": [],
   "source": [
    "model = \"model {\n",
    "  \n",
    "  for(i in 1:2){\n",
    "\n",
    "    # priors\n",
    "    logits[i] ~ dnorm(0, 1)\n",
    "  \n",
    "    # Transform from logit to success prob.\n",
    "    theta[i] <- 1.0/(1.0 + exp(-logits[i]))\n",
    "    \n",
    "    x[i] ~ dbin(theta[i], N)\n",
    "  } \n",
    "\n",
    "    diff <- theta[1] - theta[2]\n",
    "\n",
    "    # probability to be best\n",
    "    ptbb[1] <- step(theta[1] - theta[2]) # will be 1 if > 0 and 0 otherwise\n",
    "    ptbb[2] <- step(theta[2] - theta[1])\n",
    "    \n",
    "    # Expected loss \n",
    "    loss[1] <- step(theta[2] - theta[1])*(theta[2] - theta[1]) \n",
    "    loss[2] <- step(theta[1] - theta[2])*(theta[1] - theta[2])\n",
    "    \n",
    "}\n",
    "\"\n",
    "jm = jags.model(textConnection(model), data = list(N = n, x = c(x_a, x_b)))\n",
    "out = coda.samples(jm, variable.names = c(\"theta\", 'diff', 'ptbb', 'loss'), n.iter = 100000, thin=10)\n",
    "results = as.data.frame(out[[1]])"
   ]
  },
  {
   "cell_type": "code",
   "execution_count": null,
   "metadata": {},
   "outputs": [],
   "source": [
    "source('functions/decision-functions.R')"
   ]
  },
  {
   "cell_type": "code",
   "execution_count": null,
   "metadata": {},
   "outputs": [],
   "source": [
    "plot_loss(ps$loss_theta_a, ps$loss_theta_b)"
   ]
  },
  {
   "cell_type": "code",
   "execution_count": null,
   "metadata": {},
   "outputs": [],
   "source": [
    "rope(ps$theta_a, ps$theta_b)"
   ]
  }
 ],
 "metadata": {
  "kernelspec": {
   "display_name": "R",
   "language": "R",
   "name": "ir"
  },
  "language_info": {
   "codemirror_mode": "r",
   "file_extension": ".r",
   "mimetype": "text/x-r-source",
   "name": "R",
   "pygments_lexer": "r",
   "version": "4.0.2"
  }
 },
 "nbformat": 4,
 "nbformat_minor": 4
}
